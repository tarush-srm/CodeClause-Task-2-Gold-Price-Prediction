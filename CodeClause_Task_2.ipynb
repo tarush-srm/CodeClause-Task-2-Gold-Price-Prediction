{
  "cells": [
    {
      "cell_type": "markdown",
      "id": "b9e23342",
      "metadata": {
        "id": "b9e23342"
      },
      "source": [
        "# CodeClause Artificial Intelligence Intern "
      ]
    },
    {
      "cell_type": "markdown",
      "id": "dfc85a37",
      "metadata": {
        "id": "dfc85a37"
      },
      "source": [
        "# Name : Tarush Kumar Goyal"
      ]
    },
    {
      "cell_type": "markdown",
      "id": "f8774878",
      "metadata": {
        "id": "f8774878"
      },
      "source": [
        "# Task 2  : Gold Price Prediction"
      ]
    },
    {
      "cell_type": "markdown",
      "id": "390f8b6e",
      "metadata": {
        "id": "390f8b6e"
      },
      "source": [
        "### Import Libraries"
      ]
    },
    {
      "cell_type": "code",
      "execution_count": 1,
      "id": "ace0a106",
      "metadata": {
        "id": "ace0a106"
      },
      "outputs": [],
      "source": [
        "import pandas as pd\n",
        "import numpy as np\n",
        "import matplotlib.pyplot as plt\n",
        "import seaborn as sns\n",
        "from sklearn.model_selection import train_test_split\n",
        "from sklearn.linear_model import LinearRegression\n",
        "from sklearn import metrics\n",
        "from sklearn.ensemble import RandomForestRegressor"
      ]
    },
    {
      "cell_type": "markdown",
      "id": "c176c0eb",
      "metadata": {
        "id": "c176c0eb"
      },
      "source": [
        "### Import Data"
      ]
    },
    {
      "cell_type": "code",
      "execution_count": 2,
      "id": "157dfb36",
      "metadata": {
        "colab": {
          "base_uri": "https://localhost:8080/",
          "height": 206
        },
        "id": "157dfb36",
        "outputId": "c5ef3244-0bca-4577-ee40-dcf378bcf709"
      },
      "outputs": [
        {
          "output_type": "execute_result",
          "data": {
            "text/plain": [
              "       Date          SPX        GLD        USO     SLV   EUR/USD\n",
              "0  1/2/2008  1447.160034  84.860001  78.470001  15.180  1.471692\n",
              "1  1/3/2008  1447.160034  85.570000  78.370003  15.285  1.474491\n",
              "2  1/4/2008  1411.630005  85.129997  77.309998  15.167  1.475492\n",
              "3  1/7/2008  1416.180054  84.769997  75.500000  15.053  1.468299\n",
              "4  1/8/2008  1390.189941  86.779999  76.059998  15.590  1.557099"
            ],
            "text/html": [
              "\n",
              "  <div id=\"df-75807a67-ed0e-4faf-8bc1-7c06ae27fea9\">\n",
              "    <div class=\"colab-df-container\">\n",
              "      <div>\n",
              "<style scoped>\n",
              "    .dataframe tbody tr th:only-of-type {\n",
              "        vertical-align: middle;\n",
              "    }\n",
              "\n",
              "    .dataframe tbody tr th {\n",
              "        vertical-align: top;\n",
              "    }\n",
              "\n",
              "    .dataframe thead th {\n",
              "        text-align: right;\n",
              "    }\n",
              "</style>\n",
              "<table border=\"1\" class=\"dataframe\">\n",
              "  <thead>\n",
              "    <tr style=\"text-align: right;\">\n",
              "      <th></th>\n",
              "      <th>Date</th>\n",
              "      <th>SPX</th>\n",
              "      <th>GLD</th>\n",
              "      <th>USO</th>\n",
              "      <th>SLV</th>\n",
              "      <th>EUR/USD</th>\n",
              "    </tr>\n",
              "  </thead>\n",
              "  <tbody>\n",
              "    <tr>\n",
              "      <th>0</th>\n",
              "      <td>1/2/2008</td>\n",
              "      <td>1447.160034</td>\n",
              "      <td>84.860001</td>\n",
              "      <td>78.470001</td>\n",
              "      <td>15.180</td>\n",
              "      <td>1.471692</td>\n",
              "    </tr>\n",
              "    <tr>\n",
              "      <th>1</th>\n",
              "      <td>1/3/2008</td>\n",
              "      <td>1447.160034</td>\n",
              "      <td>85.570000</td>\n",
              "      <td>78.370003</td>\n",
              "      <td>15.285</td>\n",
              "      <td>1.474491</td>\n",
              "    </tr>\n",
              "    <tr>\n",
              "      <th>2</th>\n",
              "      <td>1/4/2008</td>\n",
              "      <td>1411.630005</td>\n",
              "      <td>85.129997</td>\n",
              "      <td>77.309998</td>\n",
              "      <td>15.167</td>\n",
              "      <td>1.475492</td>\n",
              "    </tr>\n",
              "    <tr>\n",
              "      <th>3</th>\n",
              "      <td>1/7/2008</td>\n",
              "      <td>1416.180054</td>\n",
              "      <td>84.769997</td>\n",
              "      <td>75.500000</td>\n",
              "      <td>15.053</td>\n",
              "      <td>1.468299</td>\n",
              "    </tr>\n",
              "    <tr>\n",
              "      <th>4</th>\n",
              "      <td>1/8/2008</td>\n",
              "      <td>1390.189941</td>\n",
              "      <td>86.779999</td>\n",
              "      <td>76.059998</td>\n",
              "      <td>15.590</td>\n",
              "      <td>1.557099</td>\n",
              "    </tr>\n",
              "  </tbody>\n",
              "</table>\n",
              "</div>\n",
              "      <button class=\"colab-df-convert\" onclick=\"convertToInteractive('df-75807a67-ed0e-4faf-8bc1-7c06ae27fea9')\"\n",
              "              title=\"Convert this dataframe to an interactive table.\"\n",
              "              style=\"display:none;\">\n",
              "        \n",
              "  <svg xmlns=\"http://www.w3.org/2000/svg\" height=\"24px\"viewBox=\"0 0 24 24\"\n",
              "       width=\"24px\">\n",
              "    <path d=\"M0 0h24v24H0V0z\" fill=\"none\"/>\n",
              "    <path d=\"M18.56 5.44l.94 2.06.94-2.06 2.06-.94-2.06-.94-.94-2.06-.94 2.06-2.06.94zm-11 1L8.5 8.5l.94-2.06 2.06-.94-2.06-.94L8.5 2.5l-.94 2.06-2.06.94zm10 10l.94 2.06.94-2.06 2.06-.94-2.06-.94-.94-2.06-.94 2.06-2.06.94z\"/><path d=\"M17.41 7.96l-1.37-1.37c-.4-.4-.92-.59-1.43-.59-.52 0-1.04.2-1.43.59L10.3 9.45l-7.72 7.72c-.78.78-.78 2.05 0 2.83L4 21.41c.39.39.9.59 1.41.59.51 0 1.02-.2 1.41-.59l7.78-7.78 2.81-2.81c.8-.78.8-2.07 0-2.86zM5.41 20L4 18.59l7.72-7.72 1.47 1.35L5.41 20z\"/>\n",
              "  </svg>\n",
              "      </button>\n",
              "      \n",
              "  <style>\n",
              "    .colab-df-container {\n",
              "      display:flex;\n",
              "      flex-wrap:wrap;\n",
              "      gap: 12px;\n",
              "    }\n",
              "\n",
              "    .colab-df-convert {\n",
              "      background-color: #E8F0FE;\n",
              "      border: none;\n",
              "      border-radius: 50%;\n",
              "      cursor: pointer;\n",
              "      display: none;\n",
              "      fill: #1967D2;\n",
              "      height: 32px;\n",
              "      padding: 0 0 0 0;\n",
              "      width: 32px;\n",
              "    }\n",
              "\n",
              "    .colab-df-convert:hover {\n",
              "      background-color: #E2EBFA;\n",
              "      box-shadow: 0px 1px 2px rgba(60, 64, 67, 0.3), 0px 1px 3px 1px rgba(60, 64, 67, 0.15);\n",
              "      fill: #174EA6;\n",
              "    }\n",
              "\n",
              "    [theme=dark] .colab-df-convert {\n",
              "      background-color: #3B4455;\n",
              "      fill: #D2E3FC;\n",
              "    }\n",
              "\n",
              "    [theme=dark] .colab-df-convert:hover {\n",
              "      background-color: #434B5C;\n",
              "      box-shadow: 0px 1px 3px 1px rgba(0, 0, 0, 0.15);\n",
              "      filter: drop-shadow(0px 1px 2px rgba(0, 0, 0, 0.3));\n",
              "      fill: #FFFFFF;\n",
              "    }\n",
              "  </style>\n",
              "\n",
              "      <script>\n",
              "        const buttonEl =\n",
              "          document.querySelector('#df-75807a67-ed0e-4faf-8bc1-7c06ae27fea9 button.colab-df-convert');\n",
              "        buttonEl.style.display =\n",
              "          google.colab.kernel.accessAllowed ? 'block' : 'none';\n",
              "\n",
              "        async function convertToInteractive(key) {\n",
              "          const element = document.querySelector('#df-75807a67-ed0e-4faf-8bc1-7c06ae27fea9');\n",
              "          const dataTable =\n",
              "            await google.colab.kernel.invokeFunction('convertToInteractive',\n",
              "                                                     [key], {});\n",
              "          if (!dataTable) return;\n",
              "\n",
              "          const docLinkHtml = 'Like what you see? Visit the ' +\n",
              "            '<a target=\"_blank\" href=https://colab.research.google.com/notebooks/data_table.ipynb>data table notebook</a>'\n",
              "            + ' to learn more about interactive tables.';\n",
              "          element.innerHTML = '';\n",
              "          dataTable['output_type'] = 'display_data';\n",
              "          await google.colab.output.renderOutput(dataTable, element);\n",
              "          const docLink = document.createElement('div');\n",
              "          docLink.innerHTML = docLinkHtml;\n",
              "          element.appendChild(docLink);\n",
              "        }\n",
              "      </script>\n",
              "    </div>\n",
              "  </div>\n",
              "  "
            ]
          },
          "metadata": {},
          "execution_count": 2
        }
      ],
      "source": [
        "df=pd.read_csv(\"/Gold_Price_Data.csv\")\n",
        "df.head(5)"
      ]
    },
    {
      "cell_type": "code",
      "execution_count": 3,
      "id": "95eec6b2",
      "metadata": {
        "colab": {
          "base_uri": "https://localhost:8080/",
          "height": 206
        },
        "id": "95eec6b2",
        "outputId": "14bd75da-118f-4d66-e806-536c77aa82e9"
      },
      "outputs": [
        {
          "output_type": "execute_result",
          "data": {
            "text/plain": [
              "           Date          SPX         GLD      USO      SLV   EUR/USD\n",
              "2285   5/8/2018  2671.919922  124.589996  14.0600  15.5100  1.186789\n",
              "2286   5/9/2018  2697.790039  124.330002  14.3700  15.5300  1.184722\n",
              "2287  5/10/2018  2723.070068  125.180000  14.4100  15.7400  1.191753\n",
              "2288  5/14/2018  2730.129883  124.489998  14.3800  15.5600  1.193118\n",
              "2289  5/16/2018  2725.780029  122.543800  14.4058  15.4542  1.182033"
            ],
            "text/html": [
              "\n",
              "  <div id=\"df-3d462574-2a37-4b97-9f71-39bd4b0ddbaa\">\n",
              "    <div class=\"colab-df-container\">\n",
              "      <div>\n",
              "<style scoped>\n",
              "    .dataframe tbody tr th:only-of-type {\n",
              "        vertical-align: middle;\n",
              "    }\n",
              "\n",
              "    .dataframe tbody tr th {\n",
              "        vertical-align: top;\n",
              "    }\n",
              "\n",
              "    .dataframe thead th {\n",
              "        text-align: right;\n",
              "    }\n",
              "</style>\n",
              "<table border=\"1\" class=\"dataframe\">\n",
              "  <thead>\n",
              "    <tr style=\"text-align: right;\">\n",
              "      <th></th>\n",
              "      <th>Date</th>\n",
              "      <th>SPX</th>\n",
              "      <th>GLD</th>\n",
              "      <th>USO</th>\n",
              "      <th>SLV</th>\n",
              "      <th>EUR/USD</th>\n",
              "    </tr>\n",
              "  </thead>\n",
              "  <tbody>\n",
              "    <tr>\n",
              "      <th>2285</th>\n",
              "      <td>5/8/2018</td>\n",
              "      <td>2671.919922</td>\n",
              "      <td>124.589996</td>\n",
              "      <td>14.0600</td>\n",
              "      <td>15.5100</td>\n",
              "      <td>1.186789</td>\n",
              "    </tr>\n",
              "    <tr>\n",
              "      <th>2286</th>\n",
              "      <td>5/9/2018</td>\n",
              "      <td>2697.790039</td>\n",
              "      <td>124.330002</td>\n",
              "      <td>14.3700</td>\n",
              "      <td>15.5300</td>\n",
              "      <td>1.184722</td>\n",
              "    </tr>\n",
              "    <tr>\n",
              "      <th>2287</th>\n",
              "      <td>5/10/2018</td>\n",
              "      <td>2723.070068</td>\n",
              "      <td>125.180000</td>\n",
              "      <td>14.4100</td>\n",
              "      <td>15.7400</td>\n",
              "      <td>1.191753</td>\n",
              "    </tr>\n",
              "    <tr>\n",
              "      <th>2288</th>\n",
              "      <td>5/14/2018</td>\n",
              "      <td>2730.129883</td>\n",
              "      <td>124.489998</td>\n",
              "      <td>14.3800</td>\n",
              "      <td>15.5600</td>\n",
              "      <td>1.193118</td>\n",
              "    </tr>\n",
              "    <tr>\n",
              "      <th>2289</th>\n",
              "      <td>5/16/2018</td>\n",
              "      <td>2725.780029</td>\n",
              "      <td>122.543800</td>\n",
              "      <td>14.4058</td>\n",
              "      <td>15.4542</td>\n",
              "      <td>1.182033</td>\n",
              "    </tr>\n",
              "  </tbody>\n",
              "</table>\n",
              "</div>\n",
              "      <button class=\"colab-df-convert\" onclick=\"convertToInteractive('df-3d462574-2a37-4b97-9f71-39bd4b0ddbaa')\"\n",
              "              title=\"Convert this dataframe to an interactive table.\"\n",
              "              style=\"display:none;\">\n",
              "        \n",
              "  <svg xmlns=\"http://www.w3.org/2000/svg\" height=\"24px\"viewBox=\"0 0 24 24\"\n",
              "       width=\"24px\">\n",
              "    <path d=\"M0 0h24v24H0V0z\" fill=\"none\"/>\n",
              "    <path d=\"M18.56 5.44l.94 2.06.94-2.06 2.06-.94-2.06-.94-.94-2.06-.94 2.06-2.06.94zm-11 1L8.5 8.5l.94-2.06 2.06-.94-2.06-.94L8.5 2.5l-.94 2.06-2.06.94zm10 10l.94 2.06.94-2.06 2.06-.94-2.06-.94-.94-2.06-.94 2.06-2.06.94z\"/><path d=\"M17.41 7.96l-1.37-1.37c-.4-.4-.92-.59-1.43-.59-.52 0-1.04.2-1.43.59L10.3 9.45l-7.72 7.72c-.78.78-.78 2.05 0 2.83L4 21.41c.39.39.9.59 1.41.59.51 0 1.02-.2 1.41-.59l7.78-7.78 2.81-2.81c.8-.78.8-2.07 0-2.86zM5.41 20L4 18.59l7.72-7.72 1.47 1.35L5.41 20z\"/>\n",
              "  </svg>\n",
              "      </button>\n",
              "      \n",
              "  <style>\n",
              "    .colab-df-container {\n",
              "      display:flex;\n",
              "      flex-wrap:wrap;\n",
              "      gap: 12px;\n",
              "    }\n",
              "\n",
              "    .colab-df-convert {\n",
              "      background-color: #E8F0FE;\n",
              "      border: none;\n",
              "      border-radius: 50%;\n",
              "      cursor: pointer;\n",
              "      display: none;\n",
              "      fill: #1967D2;\n",
              "      height: 32px;\n",
              "      padding: 0 0 0 0;\n",
              "      width: 32px;\n",
              "    }\n",
              "\n",
              "    .colab-df-convert:hover {\n",
              "      background-color: #E2EBFA;\n",
              "      box-shadow: 0px 1px 2px rgba(60, 64, 67, 0.3), 0px 1px 3px 1px rgba(60, 64, 67, 0.15);\n",
              "      fill: #174EA6;\n",
              "    }\n",
              "\n",
              "    [theme=dark] .colab-df-convert {\n",
              "      background-color: #3B4455;\n",
              "      fill: #D2E3FC;\n",
              "    }\n",
              "\n",
              "    [theme=dark] .colab-df-convert:hover {\n",
              "      background-color: #434B5C;\n",
              "      box-shadow: 0px 1px 3px 1px rgba(0, 0, 0, 0.15);\n",
              "      filter: drop-shadow(0px 1px 2px rgba(0, 0, 0, 0.3));\n",
              "      fill: #FFFFFF;\n",
              "    }\n",
              "  </style>\n",
              "\n",
              "      <script>\n",
              "        const buttonEl =\n",
              "          document.querySelector('#df-3d462574-2a37-4b97-9f71-39bd4b0ddbaa button.colab-df-convert');\n",
              "        buttonEl.style.display =\n",
              "          google.colab.kernel.accessAllowed ? 'block' : 'none';\n",
              "\n",
              "        async function convertToInteractive(key) {\n",
              "          const element = document.querySelector('#df-3d462574-2a37-4b97-9f71-39bd4b0ddbaa');\n",
              "          const dataTable =\n",
              "            await google.colab.kernel.invokeFunction('convertToInteractive',\n",
              "                                                     [key], {});\n",
              "          if (!dataTable) return;\n",
              "\n",
              "          const docLinkHtml = 'Like what you see? Visit the ' +\n",
              "            '<a target=\"_blank\" href=https://colab.research.google.com/notebooks/data_table.ipynb>data table notebook</a>'\n",
              "            + ' to learn more about interactive tables.';\n",
              "          element.innerHTML = '';\n",
              "          dataTable['output_type'] = 'display_data';\n",
              "          await google.colab.output.renderOutput(dataTable, element);\n",
              "          const docLink = document.createElement('div');\n",
              "          docLink.innerHTML = docLinkHtml;\n",
              "          element.appendChild(docLink);\n",
              "        }\n",
              "      </script>\n",
              "    </div>\n",
              "  </div>\n",
              "  "
            ]
          },
          "metadata": {},
          "execution_count": 3
        }
      ],
      "source": [
        "df.tail()"
      ]
    },
    {
      "cell_type": "markdown",
      "id": "4d7144db",
      "metadata": {
        "id": "4d7144db"
      },
      "source": [
        "### Exploratory Data Analysis [EDA]"
      ]
    },
    {
      "cell_type": "code",
      "execution_count": 4,
      "id": "53216e94",
      "metadata": {
        "colab": {
          "base_uri": "https://localhost:8080/"
        },
        "id": "53216e94",
        "outputId": "c8e36d9e-1af8-4533-dfec-c0d725331a2c"
      },
      "outputs": [
        {
          "output_type": "execute_result",
          "data": {
            "text/plain": [
              "(2290, 6)"
            ]
          },
          "metadata": {},
          "execution_count": 4
        }
      ],
      "source": [
        "df.shape"
      ]
    },
    {
      "cell_type": "code",
      "execution_count": 5,
      "id": "5418a65b",
      "metadata": {
        "colab": {
          "base_uri": "https://localhost:8080/"
        },
        "id": "5418a65b",
        "outputId": "084f290a-bb1f-4518-bdba-f13f39308741"
      },
      "outputs": [
        {
          "output_type": "stream",
          "name": "stdout",
          "text": [
            "<class 'pandas.core.frame.DataFrame'>\n",
            "RangeIndex: 2290 entries, 0 to 2289\n",
            "Data columns (total 6 columns):\n",
            " #   Column   Non-Null Count  Dtype  \n",
            "---  ------   --------------  -----  \n",
            " 0   Date     2290 non-null   object \n",
            " 1   SPX      2290 non-null   float64\n",
            " 2   GLD      2290 non-null   float64\n",
            " 3   USO      2290 non-null   float64\n",
            " 4   SLV      2290 non-null   float64\n",
            " 5   EUR/USD  2290 non-null   float64\n",
            "dtypes: float64(5), object(1)\n",
            "memory usage: 107.5+ KB\n"
          ]
        }
      ],
      "source": [
        "df.info()"
      ]
    },
    {
      "cell_type": "code",
      "execution_count": 6,
      "id": "a2604a6f",
      "metadata": {
        "colab": {
          "base_uri": "https://localhost:8080/"
        },
        "id": "a2604a6f",
        "outputId": "d37ecd3e-1066-4fa8-ecbf-9b441ffba56c"
      },
      "outputs": [
        {
          "output_type": "execute_result",
          "data": {
            "text/plain": [
              "Date       0\n",
              "SPX        0\n",
              "GLD        0\n",
              "USO        0\n",
              "SLV        0\n",
              "EUR/USD    0\n",
              "dtype: int64"
            ]
          },
          "metadata": {},
          "execution_count": 6
        }
      ],
      "source": [
        "df.isnull().sum()"
      ]
    },
    {
      "cell_type": "markdown",
      "id": "0dc17b86",
      "metadata": {
        "id": "0dc17b86"
      },
      "source": [
        "### Correlation"
      ]
    },
    {
      "cell_type": "code",
      "execution_count": 7,
      "id": "2dcc12f6",
      "metadata": {
        "colab": {
          "base_uri": "https://localhost:8080/",
          "height": 261
        },
        "id": "2dcc12f6",
        "outputId": "bc095e49-27d2-42bf-f874-648488d1708a"
      },
      "outputs": [
        {
          "output_type": "stream",
          "name": "stderr",
          "text": [
            "<ipython-input-7-b6c2249924d6>:1: FutureWarning: The default value of numeric_only in DataFrame.corr is deprecated. In a future version, it will default to False. Select only valid columns or specify the value of numeric_only to silence this warning.\n",
            "  correlation = df.corr()\n"
          ]
        },
        {
          "output_type": "execute_result",
          "data": {
            "text/plain": [
              "              SPX       GLD       USO       SLV   EUR/USD\n",
              "SPX      1.000000  0.049345 -0.591573 -0.274055 -0.672017\n",
              "GLD      0.049345  1.000000 -0.186360  0.866632 -0.024375\n",
              "USO     -0.591573 -0.186360  1.000000  0.167547  0.829317\n",
              "SLV     -0.274055  0.866632  0.167547  1.000000  0.321631\n",
              "EUR/USD -0.672017 -0.024375  0.829317  0.321631  1.000000"
            ],
            "text/html": [
              "\n",
              "  <div id=\"df-1e5509f2-08a9-4ef7-9f75-77260e9de6c2\">\n",
              "    <div class=\"colab-df-container\">\n",
              "      <div>\n",
              "<style scoped>\n",
              "    .dataframe tbody tr th:only-of-type {\n",
              "        vertical-align: middle;\n",
              "    }\n",
              "\n",
              "    .dataframe tbody tr th {\n",
              "        vertical-align: top;\n",
              "    }\n",
              "\n",
              "    .dataframe thead th {\n",
              "        text-align: right;\n",
              "    }\n",
              "</style>\n",
              "<table border=\"1\" class=\"dataframe\">\n",
              "  <thead>\n",
              "    <tr style=\"text-align: right;\">\n",
              "      <th></th>\n",
              "      <th>SPX</th>\n",
              "      <th>GLD</th>\n",
              "      <th>USO</th>\n",
              "      <th>SLV</th>\n",
              "      <th>EUR/USD</th>\n",
              "    </tr>\n",
              "  </thead>\n",
              "  <tbody>\n",
              "    <tr>\n",
              "      <th>SPX</th>\n",
              "      <td>1.000000</td>\n",
              "      <td>0.049345</td>\n",
              "      <td>-0.591573</td>\n",
              "      <td>-0.274055</td>\n",
              "      <td>-0.672017</td>\n",
              "    </tr>\n",
              "    <tr>\n",
              "      <th>GLD</th>\n",
              "      <td>0.049345</td>\n",
              "      <td>1.000000</td>\n",
              "      <td>-0.186360</td>\n",
              "      <td>0.866632</td>\n",
              "      <td>-0.024375</td>\n",
              "    </tr>\n",
              "    <tr>\n",
              "      <th>USO</th>\n",
              "      <td>-0.591573</td>\n",
              "      <td>-0.186360</td>\n",
              "      <td>1.000000</td>\n",
              "      <td>0.167547</td>\n",
              "      <td>0.829317</td>\n",
              "    </tr>\n",
              "    <tr>\n",
              "      <th>SLV</th>\n",
              "      <td>-0.274055</td>\n",
              "      <td>0.866632</td>\n",
              "      <td>0.167547</td>\n",
              "      <td>1.000000</td>\n",
              "      <td>0.321631</td>\n",
              "    </tr>\n",
              "    <tr>\n",
              "      <th>EUR/USD</th>\n",
              "      <td>-0.672017</td>\n",
              "      <td>-0.024375</td>\n",
              "      <td>0.829317</td>\n",
              "      <td>0.321631</td>\n",
              "      <td>1.000000</td>\n",
              "    </tr>\n",
              "  </tbody>\n",
              "</table>\n",
              "</div>\n",
              "      <button class=\"colab-df-convert\" onclick=\"convertToInteractive('df-1e5509f2-08a9-4ef7-9f75-77260e9de6c2')\"\n",
              "              title=\"Convert this dataframe to an interactive table.\"\n",
              "              style=\"display:none;\">\n",
              "        \n",
              "  <svg xmlns=\"http://www.w3.org/2000/svg\" height=\"24px\"viewBox=\"0 0 24 24\"\n",
              "       width=\"24px\">\n",
              "    <path d=\"M0 0h24v24H0V0z\" fill=\"none\"/>\n",
              "    <path d=\"M18.56 5.44l.94 2.06.94-2.06 2.06-.94-2.06-.94-.94-2.06-.94 2.06-2.06.94zm-11 1L8.5 8.5l.94-2.06 2.06-.94-2.06-.94L8.5 2.5l-.94 2.06-2.06.94zm10 10l.94 2.06.94-2.06 2.06-.94-2.06-.94-.94-2.06-.94 2.06-2.06.94z\"/><path d=\"M17.41 7.96l-1.37-1.37c-.4-.4-.92-.59-1.43-.59-.52 0-1.04.2-1.43.59L10.3 9.45l-7.72 7.72c-.78.78-.78 2.05 0 2.83L4 21.41c.39.39.9.59 1.41.59.51 0 1.02-.2 1.41-.59l7.78-7.78 2.81-2.81c.8-.78.8-2.07 0-2.86zM5.41 20L4 18.59l7.72-7.72 1.47 1.35L5.41 20z\"/>\n",
              "  </svg>\n",
              "      </button>\n",
              "      \n",
              "  <style>\n",
              "    .colab-df-container {\n",
              "      display:flex;\n",
              "      flex-wrap:wrap;\n",
              "      gap: 12px;\n",
              "    }\n",
              "\n",
              "    .colab-df-convert {\n",
              "      background-color: #E8F0FE;\n",
              "      border: none;\n",
              "      border-radius: 50%;\n",
              "      cursor: pointer;\n",
              "      display: none;\n",
              "      fill: #1967D2;\n",
              "      height: 32px;\n",
              "      padding: 0 0 0 0;\n",
              "      width: 32px;\n",
              "    }\n",
              "\n",
              "    .colab-df-convert:hover {\n",
              "      background-color: #E2EBFA;\n",
              "      box-shadow: 0px 1px 2px rgba(60, 64, 67, 0.3), 0px 1px 3px 1px rgba(60, 64, 67, 0.15);\n",
              "      fill: #174EA6;\n",
              "    }\n",
              "\n",
              "    [theme=dark] .colab-df-convert {\n",
              "      background-color: #3B4455;\n",
              "      fill: #D2E3FC;\n",
              "    }\n",
              "\n",
              "    [theme=dark] .colab-df-convert:hover {\n",
              "      background-color: #434B5C;\n",
              "      box-shadow: 0px 1px 3px 1px rgba(0, 0, 0, 0.15);\n",
              "      filter: drop-shadow(0px 1px 2px rgba(0, 0, 0, 0.3));\n",
              "      fill: #FFFFFF;\n",
              "    }\n",
              "  </style>\n",
              "\n",
              "      <script>\n",
              "        const buttonEl =\n",
              "          document.querySelector('#df-1e5509f2-08a9-4ef7-9f75-77260e9de6c2 button.colab-df-convert');\n",
              "        buttonEl.style.display =\n",
              "          google.colab.kernel.accessAllowed ? 'block' : 'none';\n",
              "\n",
              "        async function convertToInteractive(key) {\n",
              "          const element = document.querySelector('#df-1e5509f2-08a9-4ef7-9f75-77260e9de6c2');\n",
              "          const dataTable =\n",
              "            await google.colab.kernel.invokeFunction('convertToInteractive',\n",
              "                                                     [key], {});\n",
              "          if (!dataTable) return;\n",
              "\n",
              "          const docLinkHtml = 'Like what you see? Visit the ' +\n",
              "            '<a target=\"_blank\" href=https://colab.research.google.com/notebooks/data_table.ipynb>data table notebook</a>'\n",
              "            + ' to learn more about interactive tables.';\n",
              "          element.innerHTML = '';\n",
              "          dataTable['output_type'] = 'display_data';\n",
              "          await google.colab.output.renderOutput(dataTable, element);\n",
              "          const docLink = document.createElement('div');\n",
              "          docLink.innerHTML = docLinkHtml;\n",
              "          element.appendChild(docLink);\n",
              "        }\n",
              "      </script>\n",
              "    </div>\n",
              "  </div>\n",
              "  "
            ]
          },
          "metadata": {},
          "execution_count": 7
        }
      ],
      "source": [
        "correlation = df.corr()\n",
        "correlation"
      ]
    },
    {
      "cell_type": "code",
      "execution_count": 8,
      "id": "12f3553f",
      "metadata": {
        "colab": {
          "base_uri": "https://localhost:8080/",
          "height": 699
        },
        "id": "12f3553f",
        "outputId": "33dcbdad-d901-4e98-e7d5-cc043d67ea4b"
      },
      "outputs": [
        {
          "output_type": "execute_result",
          "data": {
            "text/plain": [
              "<Axes: >"
            ]
          },
          "metadata": {},
          "execution_count": 8
        },
        {
          "output_type": "display_data",
          "data": {
            "text/plain": [
              "<Figure size 800x800 with 2 Axes>"
            ],
            "image/png": "[encoded data removed]"
          },
          "metadata": {}
        }
      ],
      "source": [
        "plt.figure(figsize=(8,8))\n",
        "sns.heatmap(correlation,annot=True)"
      ]
    },
    {
      "cell_type": "code",
      "execution_count": 9,
      "id": "39f47e1f",
      "metadata": {
        "colab": {
          "base_uri": "https://localhost:8080/",
          "height": 523
        },
        "id": "39f47e1f",
        "outputId": "eae5bbba-0285-4707-f74e-bd75ff2fba6e"
      },
      "outputs": [
        {
          "output_type": "execute_result",
          "data": {
            "text/plain": [
              "<seaborn.axisgrid.FacetGrid at 0x7f058fc4a100>"
            ]
          },
          "metadata": {},
          "execution_count": 9
        },
        {
          "output_type": "display_data",
          "data": {
            "text/plain": [
              "<Figure size 500x500 with 1 Axes>"
            ],
            "image/png": "[encoded data removed]"
          },
          "metadata": {}
        }
      ],
      "source": [
        "sns.displot(df['GLD'],color=\"b\")"
      ]
    },
    {
      "cell_type": "markdown",
      "id": "03780426",
      "metadata": {
        "id": "03780426"
      },
      "source": [
        "### Spliting Data Into Dependent & Independent"
      ]
    },
    {
      "cell_type": "code",
      "execution_count": 10,
      "id": "81d663a3",
      "metadata": {
        "colab": {
          "base_uri": "https://localhost:8080/"
        },
        "id": "81d663a3",
        "outputId": "dac1938b-8170-41f4-dbbc-fd4e847cdb76"
      },
      "outputs": [
        {
          "output_type": "execute_result",
          "data": {
            "text/plain": [
              "array([[1.44716003e+03, 7.84700010e+01, 1.51800000e+01, 1.47169200e+00],\n",
              "       [1.44716003e+03, 7.83700030e+01, 1.52850000e+01, 1.47449100e+00],\n",
              "       [1.41163000e+03, 7.73099980e+01, 1.51670000e+01, 1.47549200e+00],\n",
              "       ...,\n",
              "       [2.72307007e+03, 1.44100000e+01, 1.57400000e+01, 1.19175300e+00],\n",
              "       [2.73012988e+03, 1.43800000e+01, 1.55600000e+01, 1.19311800e+00],\n",
              "       [2.72578003e+03, 1.44058000e+01, 1.54542000e+01, 1.18203300e+00]])"
            ]
          },
          "metadata": {},
          "execution_count": 10
        }
      ],
      "source": [
        "X = df[['SPX','USO','SLV','EUR/USD']]\n",
        "x = X.iloc[:,:].values\n",
        "x"
      ]
    },
    {
      "cell_type": "code",
      "execution_count": 11,
      "id": "218c1042",
      "metadata": {
        "colab": {
          "base_uri": "https://localhost:8080/"
        },
        "id": "218c1042",
        "outputId": "bfde1b58-63ea-4168-e733-801cec535d2f"
      },
      "outputs": [
        {
          "output_type": "execute_result",
          "data": {
            "text/plain": [
              "array([ 84.860001,  85.57    ,  85.129997, ..., 125.18    , 124.489998,\n",
              "       122.5438  ])"
            ]
          },
          "metadata": {},
          "execution_count": 11
        }
      ],
      "source": [
        "y = df.iloc[:,2].values \n",
        "y"
      ]
    },
    {
      "cell_type": "markdown",
      "id": "55f3ddf2",
      "metadata": {
        "id": "55f3ddf2"
      },
      "source": [
        "### Spliting into Training & Testing Data"
      ]
    },
    {
      "cell_type": "code",
      "execution_count": 12,
      "id": "999a8422",
      "metadata": {
        "id": "999a8422"
      },
      "outputs": [],
      "source": [
        "x_train,x_test,y_train,y_test = train_test_split(x, y, test_size=0.2, random_state=1)"
      ]
    },
    {
      "cell_type": "code",
      "execution_count": 13,
      "id": "936f905a",
      "metadata": {
        "colab": {
          "base_uri": "https://localhost:8080/"
        },
        "id": "936f905a",
        "outputId": "8758b1d6-5670-409e-b417-083656e9c5a4"
      },
      "outputs": [
        {
          "output_type": "execute_result",
          "data": {
            "text/plain": [
              "(1832, 4)"
            ]
          },
          "metadata": {},
          "execution_count": 13
        }
      ],
      "source": [
        "x_train.shape"
      ]
    },
    {
      "cell_type": "code",
      "execution_count": 14,
      "id": "e0f6f43f",
      "metadata": {
        "colab": {
          "base_uri": "https://localhost:8080/"
        },
        "id": "e0f6f43f",
        "outputId": "ad1752e9-0b83-423e-dc9d-9efac75bd11f"
      },
      "outputs": [
        {
          "output_type": "execute_result",
          "data": {
            "text/plain": [
              "(458, 4)"
            ]
          },
          "metadata": {},
          "execution_count": 14
        }
      ],
      "source": [
        "x_test.shape"
      ]
    },
    {
      "cell_type": "code",
      "execution_count": 15,
      "id": "15739095",
      "metadata": {
        "colab": {
          "base_uri": "https://localhost:8080/"
        },
        "id": "15739095",
        "outputId": "ab25e176-eee6-45b4-c935-753dd39f2338"
      },
      "outputs": [
        {
          "output_type": "execute_result",
          "data": {
            "text/plain": [
              "(1832,)"
            ]
          },
          "metadata": {},
          "execution_count": 15
        }
      ],
      "source": [
        "y_train.shape"
      ]
    },
    {
      "cell_type": "code",
      "execution_count": 16,
      "id": "ad22ee65",
      "metadata": {
        "colab": {
          "base_uri": "https://localhost:8080/"
        },
        "id": "ad22ee65",
        "outputId": "7b27d949-ac5c-45a5-a808-c86613ae6f40"
      },
      "outputs": [
        {
          "output_type": "execute_result",
          "data": {
            "text/plain": [
              "(1832,)"
            ]
          },
          "metadata": {},
          "execution_count": 16
        }
      ],
      "source": [
        "y_train.shape"
      ]
    },
    {
      "cell_type": "markdown",
      "id": "19f09568",
      "metadata": {
        "id": "19f09568"
      },
      "source": [
        "### Linear Regression Model"
      ]
    },
    {
      "cell_type": "code",
      "execution_count": 17,
      "id": "ce52b2a8",
      "metadata": {
        "id": "ce52b2a8"
      },
      "outputs": [],
      "source": [
        "lr = LinearRegression()"
      ]
    },
    {
      "cell_type": "code",
      "execution_count": 18,
      "id": "e12eb78e",
      "metadata": {
        "colab": {
          "base_uri": "https://localhost:8080/",
          "height": 74
        },
        "id": "e12eb78e",
        "outputId": "3f0b4194-8e46-44f5-ce96-0713da61f176"
      },
      "outputs": [
        {
          "output_type": "execute_result",
          "data": {
            "text/plain": [
              "LinearRegression()"
            ],
            "text/html": [
              "<style>#sk-container-id-1 {color: black;background-color: white;}#sk-container-id-1 pre{padding: 0;}#sk-container-id-1 div.sk-toggleable {background-color: white;}#sk-container-id-1 label.sk-toggleable__label {cursor: pointer;display: block;width: 100%;margin-bottom: 0;padding: 0.3em;box-sizing: border-box;text-align: center;}#sk-container-id-1 label.sk-toggleable__label-arrow:before {content: \"▸\";float: left;margin-right: 0.25em;color: #696969;}#sk-container-id-1 label.sk-toggleable__label-arrow:hover:before {color: black;}#sk-container-id-1 div.sk-estimator:hover label.sk-toggleable__label-arrow:before {color: black;}#sk-container-id-1 div.sk-toggleable__content {max-height: 0;max-width: 0;overflow: hidden;text-align: left;background-color: #f0f8ff;}#sk-container-id-1 div.sk-toggleable__content pre {margin: 0.2em;color: black;border-radius: 0.25em;background-color: #f0f8ff;}#sk-container-id-1 input.sk-toggleable__control:checked~div.sk-toggleable__content {max-height: 200px;max-width: 100%;overflow: auto;}#sk-container-id-1 input.sk-toggleable__control:checked~label.sk-toggleable__label-arrow:before {content: \"▾\";}#sk-container-id-1 div.sk-estimator input.sk-toggleable__control:checked~label.sk-toggleable__label {background-color: #d4ebff;}#sk-container-id-1 div.sk-label input.sk-toggleable__control:checked~label.sk-toggleable__label {background-color: #d4ebff;}#sk-container-id-1 input.sk-hidden--visually {border: 0;clip: rect(1px 1px 1px 1px);clip: rect(1px, 1px, 1px, 1px);height: 1px;margin: -1px;overflow: hidden;padding: 0;position: absolute;width: 1px;}#sk-container-id-1 div.sk-estimator {font-family: monospace;background-color: #f0f8ff;border: 1px dotted black;border-radius: 0.25em;box-sizing: border-box;margin-bottom: 0.5em;}#sk-container-id-1 div.sk-estimator:hover {background-color: #d4ebff;}#sk-container-id-1 div.sk-parallel-item::after {content: \"\";width: 100%;border-bottom: 1px solid gray;flex-grow: 1;}#sk-container-id-1 div.sk-label:hover label.sk-toggleable__label {background-color: #d4ebff;}#sk-container-id-1 div.sk-serial::before {content: \"\";position: absolute;border-left: 1px solid gray;box-sizing: border-box;top: 0;bottom: 0;left: 50%;z-index: 0;}#sk-container-id-1 div.sk-serial {display: flex;flex-direction: column;align-items: center;background-color: white;padding-right: 0.2em;padding-left: 0.2em;position: relative;}#sk-container-id-1 div.sk-item {position: relative;z-index: 1;}#sk-container-id-1 div.sk-parallel {display: flex;align-items: stretch;justify-content: center;background-color: white;position: relative;}#sk-container-id-1 div.sk-item::before, #sk-container-id-1 div.sk-parallel-item::before {content: \"\";position: absolute;border-left: 1px solid gray;box-sizing: border-box;top: 0;bottom: 0;left: 50%;z-index: -1;}#sk-container-id-1 div.sk-parallel-item {display: flex;flex-direction: column;z-index: 1;position: relative;background-color: white;}#sk-container-id-1 div.sk-parallel-item:first-child::after {align-self: flex-end;width: 50%;}#sk-container-id-1 div.sk-parallel-item:last-child::after {align-self: flex-start;width: 50%;}#sk-container-id-1 div.sk-parallel-item:only-child::after {width: 0;}#sk-container-id-1 div.sk-dashed-wrapped {border: 1px dashed gray;margin: 0 0.4em 0.5em 0.4em;box-sizing: border-box;padding-bottom: 0.4em;background-color: white;}#sk-container-id-1 div.sk-label label {font-family: monospace;font-weight: bold;display: inline-block;line-height: 1.2em;}#sk-container-id-1 div.sk-label-container {text-align: center;}#sk-container-id-1 div.sk-container {/* jupyter's `normalize.less` sets `[hidden] { display: none; }` but bootstrap.min.css set `[hidden] { display: none !important; }` so we also need the `!important` here to be able to override the default hidden behavior on the sphinx rendered scikit-learn.org. See: https://github.com/scikit-learn/scikit-learn/issues/21755 */display: inline-block !important;position: relative;}#sk-container-id-1 div.sk-text-repr-fallback {display: none;}</style><div id=\"sk-container-id-1\" class=\"sk-top-container\"><div class=\"sk-text-repr-fallback\"><pre>LinearRegression()</pre><b>In a Jupyter environment, please rerun this cell to show the HTML representation or trust the notebook. <br />On GitHub, the HTML representation is unable to render, please try loading this page with nbviewer.org.</b></div><div class=\"sk-container\" hidden><div class=\"sk-item\"><div class=\"sk-estimator sk-toggleable\"><input class=\"sk-toggleable__control sk-hidden--visually\" id=\"sk-estimator-id-1\" type=\"checkbox\" checked><label for=\"sk-estimator-id-1\" class=\"sk-toggleable__label sk-toggleable__label-arrow\">LinearRegression</label><div class=\"sk-toggleable__content\"><pre>LinearRegression()</pre></div></div></div></div></div>"
            ]
          },
          "metadata": {},
          "execution_count": 18
        }
      ],
      "source": [
        "lr.fit(x_train,y_train)"
      ]
    },
    {
      "cell_type": "code",
      "execution_count": 19,
      "id": "4d0346f9",
      "metadata": {
        "colab": {
          "base_uri": "https://localhost:8080/"
        },
        "id": "4d0346f9",
        "outputId": "de7e4f0a-10f6-4e5f-e533-96c46991f354"
      },
      "outputs": [
        {
          "output_type": "execute_result",
          "data": {
            "text/plain": [
              "array([121.893539  , 142.52364868, 158.91453793, 114.2187805 ,\n",
              "       110.36659025, 104.50331873, 109.98245681,  92.18483425,\n",
              "       120.90649253, 123.318912  , 191.2074328 , 118.60055338,\n",
              "       112.11950573,  93.46765189, 102.30779779,  97.98184003,\n",
              "       118.85518215,  94.0029039 , 119.86781484, 116.59909644,\n",
              "       122.21215189, 142.45378454, 121.22332281, 120.62860463,\n",
              "       163.30049944, 104.70315921, 125.56912816,  87.10875178,\n",
              "        95.73671386,  86.93309315, 121.81073623, 147.1233332 ,\n",
              "       144.33048658, 121.95542705, 121.2464489 ,  94.5371824 ,\n",
              "       152.31281012, 113.94185408, 110.92710898, 182.21152503,\n",
              "        97.46373243, 128.50200625, 120.48416906, 140.20343573,\n",
              "       120.16866258,  90.96452083,  82.43780029, 123.52782293,\n",
              "       144.52004651, 113.76951398, 123.14800018, 159.28339044,\n",
              "       141.34969761,  88.97598628, 163.39595336, 142.38892627,\n",
              "       109.31495867, 119.81421995,  93.1108709 , 129.67869305,\n",
              "       119.96744889, 142.21550112, 115.80809495, 115.07539756,\n",
              "       151.79900825, 111.10161864, 111.92509756, 140.89627511,\n",
              "       145.61855516, 117.87198864, 114.62345333, 187.25899785,\n",
              "       145.43536821, 161.41558562, 114.18988397, 132.49754796,\n",
              "       111.16755087, 109.30848107, 120.47917639, 121.40491892,\n",
              "       116.00435499,  96.11630876, 131.27113361, 114.43119403,\n",
              "       117.85030877,  95.53999061, 130.05094463, 119.38407911,\n",
              "       124.53437714, 122.59606268, 115.1787942 , 118.68710745,\n",
              "       152.63901818,  84.14101223, 120.87060817, 118.39624487,\n",
              "       128.03396621, 119.20243297, 119.14425157, 119.91859315,\n",
              "       123.61453323, 106.90593028, 149.32895426, 122.56480736,\n",
              "       123.92225354, 131.11817056, 170.1805573 ,  96.72174206,\n",
              "       121.18356825, 123.93609207, 105.80067393, 130.81763357,\n",
              "       121.01521435, 104.61517105, 121.2224091 , 106.60575946,\n",
              "       127.2681336 , 111.94445761, 113.91279289, 178.29068593,\n",
              "       100.29211127, 117.18663788, 115.63397188, 110.48390785,\n",
              "       120.23061664, 157.82315966, 122.17198229, 143.06271772,\n",
              "       121.5624132 , 154.30248258, 122.40105071,  91.73272171,\n",
              "       121.0739105 , 120.88036983, 110.97714331, 117.85878004,\n",
              "       121.65756238, 173.70639193, 121.20435772, 120.25699671,\n",
              "       119.81485401, 119.22662185, 158.75872752, 148.81027396,\n",
              "       160.94927188, 122.73596044, 122.46784515, 151.22434104,\n",
              "       104.95296137,  85.09948326, 117.21766337, 119.58856833,\n",
              "       123.93793188, 120.46585723, 120.50089853, 111.93213937,\n",
              "       113.18422685, 161.35600582, 188.47155233, 159.08514553,\n",
              "       110.84778161, 125.34969241, 122.8246894 , 160.37528806,\n",
              "       125.34276279, 125.11155741, 140.35395806, 125.46878543,\n",
              "       108.99629119, 130.81679072, 145.83974491, 129.50752059,\n",
              "       101.3317168 , 111.48939374, 123.89244066, 147.43146536,\n",
              "       103.19605589, 125.65510054, 105.54951719, 122.21063294,\n",
              "       144.96914694, 113.48053399, 119.21955856, 122.59180098,\n",
              "       113.50182914, 164.79093758, 140.47826013, 155.13415241,\n",
              "       119.11043492, 111.1612933 , 115.5765566 , 109.07933524,\n",
              "       111.05597337, 117.12968202, 146.33725566, 125.29482948,\n",
              "       122.01735428, 172.17272722, 164.70193802,  80.90779946,\n",
              "       120.19140715, 126.33040325, 119.54391475, 112.35803818,\n",
              "       160.29666111, 179.71529065,  80.32811206, 111.75068008,\n",
              "        95.00732586, 125.19446063, 127.2394719 , 113.6462296 ,\n",
              "       119.28700248, 143.11288798, 161.37239402,  94.0594433 ,\n",
              "       122.92687467, 112.7600935 , 115.00702604, 106.00896081,\n",
              "       161.66719074, 130.97441157, 106.19607485, 118.93087718,\n",
              "       109.53498579,  90.52958792, 162.38976313, 120.87614088,\n",
              "       118.46170656, 111.47965419, 124.29056897,  99.50911306,\n",
              "       115.87668768, 116.20464686, 143.98763658, 122.93174742,\n",
              "       161.21260345,  86.54042934, 157.55308619, 120.44179591,\n",
              "       114.83771515, 121.40631465, 118.47674303,  87.25467249,\n",
              "       122.17819088, 120.15227884,  96.85436137, 110.82733265,\n",
              "       121.06808989, 161.25969987, 110.95661339,  94.71203063,\n",
              "       124.57667954, 107.17688157,  97.28164723,  78.86686259,\n",
              "       153.54278608, 109.4464411 , 132.52972705, 101.56628241,\n",
              "       112.86087999, 140.26818731, 148.88146388, 115.06990015,\n",
              "       119.22730107, 149.69155655, 110.81005154, 164.87563762,\n",
              "       182.28419813,  88.34267807, 109.10047143, 142.26021017,\n",
              "       102.47654355, 149.52419695, 109.64464199, 141.48726534,\n",
              "       122.04916215, 123.0249573 , 121.9888099 ,  90.88442831,\n",
              "        82.75151517, 127.29537465, 122.5258863 , 120.22157986,\n",
              "       120.19789629, 141.22081191, 161.80886094, 119.27119548,\n",
              "       145.05430118, 142.34175924, 111.91270937,  95.66114278,\n",
              "       121.80837263, 145.96577999, 154.70121451, 144.10135873,\n",
              "        91.50799532, 148.73685693, 144.72158917, 103.45629687,\n",
              "       145.76091274,  86.77299824, 110.83742422, 125.18983304,\n",
              "       120.10486842, 141.25991761, 123.50675326, 129.2875168 ,\n",
              "       122.15637221, 102.91326806, 115.49997156, 100.17632354,\n",
              "       158.71759096, 148.66931542,  91.83259887, 130.05716258,\n",
              "       115.24490858, 155.9727481 , 119.4286435 , 104.57936368,\n",
              "       111.80532195, 113.59182526, 108.80340346,  79.77954681,\n",
              "        97.34768795, 116.56715202,  92.51847   , 108.89110733,\n",
              "       163.24042206, 157.91956079,  94.49193094, 161.91516255,\n",
              "        92.88471043, 118.37639445, 106.86049567, 121.9959432 ,\n",
              "       121.39476459, 119.03959822, 112.21237472, 127.43824184,\n",
              "       108.47905429, 151.98143739, 106.04185001, 123.82281282,\n",
              "       143.97924296, 160.04001166,  97.68943153,  94.55986406,\n",
              "       123.00237781,  94.65142171, 121.9584228 , 120.20108694,\n",
              "       169.30345298, 121.3380092 , 105.88302438, 152.58530848,\n",
              "        76.72935178, 118.60111882,  78.15825078, 116.72271499,\n",
              "       149.34330776, 138.05462745, 154.86569084, 117.03143748,\n",
              "       105.81485898, 142.45883207, 122.16506218, 153.89085298,\n",
              "       167.9755441 , 122.8992575 , 124.34510512, 109.27485851,\n",
              "       116.96033819, 123.04532469, 126.70575846, 152.06171606,\n",
              "        97.57033793, 159.24507415, 108.81674823, 118.9593623 ,\n",
              "       139.52454664, 117.20768505, 155.82277102, 118.52249064,\n",
              "       114.91007427, 131.44158249, 133.22283998, 115.91435319,\n",
              "       122.02689588, 122.40153797, 120.38745151, 111.86807801,\n",
              "       112.38258752,  80.30405571, 149.1970171 , 145.74596131,\n",
              "        92.26862613, 162.87370385, 140.49277053, 115.14648728,\n",
              "       113.73639442, 126.05147512, 152.87814705, 138.05711625,\n",
              "       123.96980134, 158.89130987, 153.9624448 , 123.20941919,\n",
              "       123.84179422, 122.24728569, 120.00758243, 140.5145255 ,\n",
              "        92.43270517, 111.50287291, 124.26577638, 155.21786142,\n",
              "       139.72170116,  96.27371079, 149.34223995, 116.02963226,\n",
              "       103.30165966, 122.61368894, 164.06803336, 120.73734866,\n",
              "       121.22627506, 114.79612506,  84.14393988, 118.6940176 ,\n",
              "       111.92311004, 150.98498399, 120.95105105, 120.30262401,\n",
              "       124.00400963,  98.52573323, 127.27612198, 146.60863372,\n",
              "       111.46538332,  92.70579362, 120.02984531,  96.81857708,\n",
              "       121.77854312, 117.14764776, 121.56275821, 106.1833252 ,\n",
              "       126.08059861, 162.87902302, 160.90222642, 130.40982522,\n",
              "       160.54407161, 104.63138943, 117.91694447, 123.91026744,\n",
              "       118.94325186, 114.17707869, 105.19389351, 126.55732904,\n",
              "       154.58311636, 116.00920198])"
            ]
          },
          "metadata": {},
          "execution_count": 19
        }
      ],
      "source": [
        "y_pred = lr.predict(x_test)\n",
        "y_pred"
      ]
    },
    {
      "cell_type": "code",
      "execution_count": 20,
      "id": "de75b1b0",
      "metadata": {
        "colab": {
          "base_uri": "https://localhost:8080/"
        },
        "id": "de75b1b0",
        "outputId": "4fb6075e-8e02-4828-81c4-45ced6692b0a"
      },
      "outputs": [
        {
          "output_type": "stream",
          "name": "stdout",
          "text": [
            "R-Squared Error for lr : 0.8696713120900417\n"
          ]
        }
      ],
      "source": [
        "accuracy = metrics.r2_score(y_test, y_pred)\n",
        "print('R-Squared Error for lr :', accuracy)"
      ]
    },
    {
      "cell_type": "markdown",
      "id": "1290f4a4",
      "metadata": {
        "id": "1290f4a4"
      },
      "source": [
        "### Random Forest Model"
      ]
    },
    {
      "cell_type": "code",
      "execution_count": 21,
      "id": "9056bc33",
      "metadata": {
        "id": "9056bc33"
      },
      "outputs": [],
      "source": [
        "rf = RandomForestRegressor(n_estimators=100)"
      ]
    },
    {
      "cell_type": "code",
      "execution_count": 22,
      "id": "b577b054",
      "metadata": {
        "colab": {
          "base_uri": "https://localhost:8080/",
          "height": 74
        },
        "id": "b577b054",
        "outputId": "97665950-551c-4115-9ef4-6d2b5caeac9f"
      },
      "outputs": [
        {
          "output_type": "execute_result",
          "data": {
            "text/plain": [
              "RandomForestRegressor()"
            ],
            "text/html": [
              "<style>#sk-container-id-2 {color: black;background-color: white;}#sk-container-id-2 pre{padding: 0;}#sk-container-id-2 div.sk-toggleable {background-color: white;}#sk-container-id-2 label.sk-toggleable__label {cursor: pointer;display: block;width: 100%;margin-bottom: 0;padding: 0.3em;box-sizing: border-box;text-align: center;}#sk-container-id-2 label.sk-toggleable__label-arrow:before {content: \"▸\";float: left;margin-right: 0.25em;color: #696969;}#sk-container-id-2 label.sk-toggleable__label-arrow:hover:before {color: black;}#sk-container-id-2 div.sk-estimator:hover label.sk-toggleable__label-arrow:before {color: black;}#sk-container-id-2 div.sk-toggleable__content {max-height: 0;max-width: 0;overflow: hidden;text-align: left;background-color: #f0f8ff;}#sk-container-id-2 div.sk-toggleable__content pre {margin: 0.2em;color: black;border-radius: 0.25em;background-color: #f0f8ff;}#sk-container-id-2 input.sk-toggleable__control:checked~div.sk-toggleable__content {max-height: 200px;max-width: 100%;overflow: auto;}#sk-container-id-2 input.sk-toggleable__control:checked~label.sk-toggleable__label-arrow:before {content: \"▾\";}#sk-container-id-2 div.sk-estimator input.sk-toggleable__control:checked~label.sk-toggleable__label {background-color: #d4ebff;}#sk-container-id-2 div.sk-label input.sk-toggleable__control:checked~label.sk-toggleable__label {background-color: #d4ebff;}#sk-container-id-2 input.sk-hidden--visually {border: 0;clip: rect(1px 1px 1px 1px);clip: rect(1px, 1px, 1px, 1px);height: 1px;margin: -1px;overflow: hidden;padding: 0;position: absolute;width: 1px;}#sk-container-id-2 div.sk-estimator {font-family: monospace;background-color: #f0f8ff;border: 1px dotted black;border-radius: 0.25em;box-sizing: border-box;margin-bottom: 0.5em;}#sk-container-id-2 div.sk-estimator:hover {background-color: #d4ebff;}#sk-container-id-2 div.sk-parallel-item::after {content: \"\";width: 100%;border-bottom: 1px solid gray;flex-grow: 1;}#sk-container-id-2 div.sk-label:hover label.sk-toggleable__label {background-color: #d4ebff;}#sk-container-id-2 div.sk-serial::before {content: \"\";position: absolute;border-left: 1px solid gray;box-sizing: border-box;top: 0;bottom: 0;left: 50%;z-index: 0;}#sk-container-id-2 div.sk-serial {display: flex;flex-direction: column;align-items: center;background-color: white;padding-right: 0.2em;padding-left: 0.2em;position: relative;}#sk-container-id-2 div.sk-item {position: relative;z-index: 1;}#sk-container-id-2 div.sk-parallel {display: flex;align-items: stretch;justify-content: center;background-color: white;position: relative;}#sk-container-id-2 div.sk-item::before, #sk-container-id-2 div.sk-parallel-item::before {content: \"\";position: absolute;border-left: 1px solid gray;box-sizing: border-box;top: 0;bottom: 0;left: 50%;z-index: -1;}#sk-container-id-2 div.sk-parallel-item {display: flex;flex-direction: column;z-index: 1;position: relative;background-color: white;}#sk-container-id-2 div.sk-parallel-item:first-child::after {align-self: flex-end;width: 50%;}#sk-container-id-2 div.sk-parallel-item:last-child::after {align-self: flex-start;width: 50%;}#sk-container-id-2 div.sk-parallel-item:only-child::after {width: 0;}#sk-container-id-2 div.sk-dashed-wrapped {border: 1px dashed gray;margin: 0 0.4em 0.5em 0.4em;box-sizing: border-box;padding-bottom: 0.4em;background-color: white;}#sk-container-id-2 div.sk-label label {font-family: monospace;font-weight: bold;display: inline-block;line-height: 1.2em;}#sk-container-id-2 div.sk-label-container {text-align: center;}#sk-container-id-2 div.sk-container {/* jupyter's `normalize.less` sets `[hidden] { display: none; }` but bootstrap.min.css set `[hidden] { display: none !important; }` so we also need the `!important` here to be able to override the default hidden behavior on the sphinx rendered scikit-learn.org. See: https://github.com/scikit-learn/scikit-learn/issues/21755 */display: inline-block !important;position: relative;}#sk-container-id-2 div.sk-text-repr-fallback {display: none;}</style><div id=\"sk-container-id-2\" class=\"sk-top-container\"><div class=\"sk-text-repr-fallback\"><pre>RandomForestRegressor()</pre><b>In a Jupyter environment, please rerun this cell to show the HTML representation or trust the notebook. <br />On GitHub, the HTML representation is unable to render, please try loading this page with nbviewer.org.</b></div><div class=\"sk-container\" hidden><div class=\"sk-item\"><div class=\"sk-estimator sk-toggleable\"><input class=\"sk-toggleable__control sk-hidden--visually\" id=\"sk-estimator-id-2\" type=\"checkbox\" checked><label for=\"sk-estimator-id-2\" class=\"sk-toggleable__label sk-toggleable__label-arrow\">RandomForestRegressor</label><div class=\"sk-toggleable__content\"><pre>RandomForestRegressor()</pre></div></div></div></div></div>"
            ]
          },
          "metadata": {},
          "execution_count": 22
        }
      ],
      "source": [
        "rf.fit(x_train,y_train)"
      ]
    },
    {
      "cell_type": "code",
      "execution_count": 23,
      "id": "69be39ac",
      "metadata": {
        "colab": {
          "base_uri": "https://localhost:8080/"
        },
        "id": "69be39ac",
        "outputId": "05007836-dce6-410d-aa2f-921aa79fd8de"
      },
      "outputs": [
        {
          "output_type": "execute_result",
          "data": {
            "text/plain": [
              "array([113.52570008, 148.03440134, 141.84249899, 112.58250206,\n",
              "       114.06769994,  95.63709935, 111.85309989,  93.32749945,\n",
              "       120.89500074, 126.9497992 , 147.99479973, 120.40299885,\n",
              "       119.39980057,  88.20520075,  96.15939983,  92.79479853,\n",
              "       116.5921008 ,  88.99869901, 125.49590084, 114.89499972,\n",
              "       119.11689957, 152.74800193, 122.58749814, 120.07839969,\n",
              "       171.1983993 , 108.49819859, 120.3192007 ,  87.22679793,\n",
              "        87.87180062,  88.51569929, 121.34490066, 154.29710181,\n",
              "       150.66999827, 125.98680023, 126.60510008,  90.81429881,\n",
              "       160.17290015, 121.54970216, 106.74190066, 144.28899636,\n",
              "        92.67439966, 127.61180119, 117.33280086, 152.85280176,\n",
              "       119.33269962,  91.36480184,  80.28379971, 120.35970176,\n",
              "       132.92190065, 119.11569975, 127.20390102, 165.74020064,\n",
              "       153.23239995,  92.63509941, 149.14930048, 152.10369998,\n",
              "       112.91670034, 112.75840034,  87.27439924, 127.79269897,\n",
              "       125.19200063, 151.713003  , 114.47449981, 110.6012999 ,\n",
              "       160.91069775, 117.37619894, 108.39110113, 131.80429962,\n",
              "       133.04910167, 125.41300017, 117.05419988, 149.76770228,\n",
              "       156.28970043, 168.7712957 , 110.3669007 , 140.92329807,\n",
              "       101.95449819, 114.74050073, 119.7324008 , 123.5376992 ,\n",
              "       117.8557008 ,  92.14160038, 140.78100066, 107.46289972,\n",
              "       125.14599987,  92.42209918, 133.08270364, 125.30810007,\n",
              "       125.36500048, 125.8656987 , 113.55530048, 120.48539926,\n",
              "       160.82390095,  80.58549981, 117.81060101, 115.39730095,\n",
              "       135.06060123, 109.65740019, 109.19319967, 126.29190034,\n",
              "       127.54160025, 110.26999909, 160.06949933, 123.17809979,\n",
              "       120.91810025, 128.52069807, 146.82389712,  92.44579819,\n",
              "       124.72089969, 119.38429998, 108.85739936, 135.33909963,\n",
              "       121.00330052,  98.06449706, 115.64340004, 110.13289802,\n",
              "       126.10269994, 113.79200102, 107.10400019, 174.32809891,\n",
              "        96.74090262, 126.51339772, 112.57009827, 112.39439976,\n",
              "       124.57419927, 167.6614982 , 114.49060054, 135.05949625,\n",
              "       125.72360009, 163.13469898, 120.47929984,  89.20789968,\n",
              "       128.17849991, 127.77650052, 115.78009995, 122.11059884,\n",
              "       126.04089989, 166.81669787, 112.38500104, 120.02999998,\n",
              "       126.3391008 , 127.07240024, 167.52739839, 160.86260027,\n",
              "       170.9114029 , 121.30840105, 121.66710124, 165.17650088,\n",
              "        98.84219925,  79.79659981, 115.88740084, 113.45950046,\n",
              "       118.53880073, 113.64930057, 120.74600013, 119.97010092,\n",
              "       104.63379921, 170.84800267, 144.54469552, 166.6840973 ,\n",
              "       117.83080168, 125.83940143, 126.10940022, 163.89809906,\n",
              "       117.42700044, 133.16940344, 138.38739993, 132.21860224,\n",
              "       114.29660056, 133.33640034, 153.97640112, 137.27369815,\n",
              "        96.27410034, 108.34050118, 124.56860054, 149.41940029,\n",
              "        99.58720029, 131.63240148, 104.7728994 , 121.23749813,\n",
              "       142.93950096, 109.23370205, 127.15949979, 127.20239903,\n",
              "       112.94370104, 139.76250275, 151.86940009, 165.24909906,\n",
              "       119.60070041, 105.09840186, 115.71209958, 114.49470079,\n",
              "       107.01260016, 123.67210078, 154.02590262, 128.74380097,\n",
              "       126.10169992, 148.25219714, 142.77579996,  83.93419891,\n",
              "       124.7081995 , 125.85700007, 124.55910213, 106.16990043,\n",
              "       169.5308026 , 176.38279698,  77.59830034, 119.31480066,\n",
              "        93.14160043, 118.67029926, 125.46810131, 117.64550033,\n",
              "       123.68560035, 152.94719995, 149.88880153,  91.66860083,\n",
              "       131.34859787, 108.67179827, 110.17429913, 109.0325997 ,\n",
              "       168.6183956 , 128.74729745, 103.77739872, 124.57279879,\n",
              "       111.76209973,  90.14559915, 146.86339917, 121.52360007,\n",
              "       120.0989011 , 104.19229901, 124.94540045,  94.31230052,\n",
              "       121.65680094, 116.25839998, 134.87059881, 124.22927691,\n",
              "       170.63920291,  83.1766987 , 167.45429899, 125.12659983,\n",
              "       110.03490054, 126.13409967, 123.02919849,  83.35899853,\n",
              "       124.11079853, 113.53770065,  90.92589848, 113.49570003,\n",
              "       112.3736009 , 169.74580188, 107.27659906,  91.64019964,\n",
              "       119.0348996 , 109.57479841,  90.04420063,  75.70980061,\n",
              "       161.27780029, 115.20120098, 141.45470136,  96.33930017,\n",
              "       120.93959987, 151.16400025, 160.01140053, 113.59880085,\n",
              "       116.21970101, 156.22890121, 117.94799831, 150.90010124,\n",
              "       175.81459823,  87.71150022, 112.26739937, 153.16949958,\n",
              "       108.32999912, 157.79720206, 114.78050095, 138.53789956,\n",
              "       121.94749993, 115.79489799, 114.16380087,  86.02379955,\n",
              "        75.53619816, 132.26039917, 120.59520095, 118.42470069,\n",
              "       111.62060052, 153.71720028, 151.86909995, 122.90699951,\n",
              "       138.75330145, 152.79460216, 106.80390037,  91.89659947,\n",
              "       122.18990041, 155.0063008 , 161.68629903, 156.42000269,\n",
              "        90.12919901, 135.0919037 , 152.49829973, 108.65899865,\n",
              "       152.97860137,  85.32690005, 116.64480099, 119.52510048,\n",
              "       128.43620347, 151.70200208, 117.21419981, 128.15310115,\n",
              "       114.55360126, 103.79239891, 114.40639997,  95.46060041,\n",
              "       167.59189837, 148.22020065,  86.87729816, 128.05670074,\n",
              "       111.58109853, 164.14410202, 121.98999934, 107.67449931,\n",
              "       103.20640011, 115.23239963, 112.17230114,  76.00800033,\n",
              "        91.26389863, 122.30689947,  86.92059898, 112.45970029,\n",
              "       171.87120223, 165.2407017 ,  90.732299  , 140.03799906,\n",
              "        89.9663015 , 118.68970063, 109.00150156, 125.3325989 ,\n",
              "       118.16040103, 124.08010002, 107.27250121, 131.25099786,\n",
              "       114.54480021, 160.02740016, 108.20719896, 116.68899973,\n",
              "       153.47400002, 147.56230032,  94.32089987,  91.0900986 ,\n",
              "       125.01380009,  87.82699868, 114.24610126, 114.87850089,\n",
              "       166.55039814, 120.97750077, 106.57299911, 160.58799925,\n",
              "        77.03600016, 124.54299875,  75.50840067, 124.6214998 ,\n",
              "       158.5395013 , 131.32980176, 161.42010113, 120.54829999,\n",
              "       106.11460015, 155.38550345, 125.80809947, 157.08640048,\n",
              "       140.14209905, 131.47009897, 133.09950366, 114.07420076,\n",
              "       114.01889889, 126.68799936, 129.21109858, 164.07119988,\n",
              "        89.904801  , 168.77539928, 111.86409933, 118.80770129,\n",
              "       135.1554003 , 121.63830253, 164.13320129, 120.54340167,\n",
              "       113.96660076, 141.03299985, 132.08620138, 113.88540033,\n",
              "       119.9239004 , 125.47239857, 124.92269937, 107.31970041,\n",
              "       104.08019926,  71.83020149, 159.45230298, 148.89380088,\n",
              "        86.13600061, 159.54120168, 153.29580289, 121.92170101,\n",
              "       114.10600085, 121.19530058, 162.14829769, 131.5551008 ,\n",
              "       118.34079988, 158.78640113, 162.42500341, 124.34929944,\n",
              "       127.21579886, 125.73139971, 120.11999948, 151.68180049,\n",
              "        87.30499884, 102.8947991 , 132.50860222, 163.27630141,\n",
              "       131.42320101,  88.92039975, 161.04610089, 116.23370035,\n",
              "        97.39409763, 127.25789983, 140.59909916, 122.38080019,\n",
              "       119.39309951, 111.27500021,  77.40019985, 121.63470089,\n",
              "       102.60999847, 160.35589812, 117.27500047, 126.37540107,\n",
              "       126.21320043,  93.82799989, 132.6675981 , 156.70290031,\n",
              "       103.05979965,  93.40709983, 127.05570083,  93.09510172,\n",
              "       113.25220047, 126.15269865, 122.47009912, 108.44619827,\n",
              "       119.00480151, 147.88589923, 148.39050235, 134.2515002 ,\n",
              "       167.92450155, 101.28339947, 117.91910083, 127.40150084,\n",
              "       115.0306015 , 115.59609945, 101.35079811, 129.63359857,\n",
              "       165.07959882, 119.11920256])"
            ]
          },
          "metadata": {},
          "execution_count": 23
        }
      ],
      "source": [
        "y_pred = rf.predict(x_test)\n",
        "y_pred"
      ]
    },
    {
      "cell_type": "code",
      "execution_count": 24,
      "id": "658605b4",
      "metadata": {
        "colab": {
          "base_uri": "https://localhost:8080/"
        },
        "id": "658605b4",
        "outputId": "d28e4202-849c-44fd-e8a9-2b0b7286628e"
      },
      "outputs": [
        {
          "output_type": "stream",
          "name": "stdout",
          "text": [
            "R-Squared Error for rf : 0.9876392419977895\n"
          ]
        }
      ],
      "source": [
        "accuracy = metrics.r2_score(y_test, y_pred)\n",
        "print('R-Squared Error for rf :', accuracy)"
      ]
    }
  ],
  "metadata": {
    "kernelspec": {
      "display_name": "Python 3 (ipykernel)",
      "language": "python",
      "name": "python3"
    },
    "language_info": {
      "codemirror_mode": {
        "name": "ipython",
        "version": 3
      },
      "file_extension": ".py",
      "mimetype": "text/x-python",
      "name": "python",
      "nbconvert_exporter": "python",
      "pygments_lexer": "ipython3",
      "version": "3.9.7"
    },
    "colab": {
      "provenance": []
    }
  },
  "nbformat": 4,
  "nbformat_minor": 5
}